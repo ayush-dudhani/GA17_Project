{
  "cells": [
    {
      "cell_type": "code",
      "execution_count": null,
      "metadata": {
        "colab": {
          "base_uri": "https://localhost:8080/"
        },
        "id": "Eu0YftdL4CBh",
        "outputId": "589ff9cb-9c86-4f2d-f28d-932264d18563"
      },
      "outputs": [
        {
          "output_type": "stream",
          "name": "stdout",
          "text": [
            "Files in the directory (sorted): ['A1.tif', 'A10.tif', 'A11.tif', 'A12.tif', 'A13.tif', 'A14.tif', 'A15.tif', 'A16.tif', 'A17.tif', 'A18.tif', 'A19.tif', 'A2.tif', 'A20.tif', 'A21.tif', 'A22.tif', 'A23.tif', 'A24.tif', 'A25.tif', 'A26.tif', 'A27.tif', 'A28.tif', 'A29.tif', 'A3.tif', 'A30.tif', 'A31.tif', 'A32.tif', 'A33.tif', 'A34.tif', 'A35.tif', 'A36.tif', 'A37.tif', 'A38.tif', 'A39.tif', 'A4.tif', 'A40.tif', 'A41.tif', 'A42.tif', 'A43.tif', 'A44.tif', 'A45.tif', 'A46.tif', 'A47.tif', 'A48.tif', 'A5.tif', 'A6.tif', 'A7.tif', 'A8.tif', 'A9.tif', 'B1.tif', 'B10.tif', 'B11.tif', 'B12.tif', 'B13.tif', 'B14.tif', 'B15.tif', 'B16.tif', 'B17.tif', 'B18.tif', 'B19.tif', 'B2.tif', 'B20.tif', 'B21.tif', 'B22.tif', 'B23.tif', 'B24.tif', 'B25.tif', 'B26.tif', 'B27.tif', 'B28.tif', 'B29.tif', 'B3.tif', 'B30.tif', 'B31.tif', 'B32.tif', 'B33.tif', 'B34.tif', 'B35.tif', 'B36.tif', 'B37.tif', 'B38.tif', 'B39.tif', 'B4.tif', 'B40.tif', 'B41.tif', 'B42.tif', 'B43.tif', 'B44.tif', 'B45.tif', 'B46.tif', 'B47.tif', 'B48.tif', 'B5.tif', 'B6.tif', 'B7.tif', 'B8.tif', 'B9.tif', 'C1.tif', 'C10.tif', 'C11.tif', 'C12.tif', 'C13.tif', 'C14.tif', 'C15.tif', 'C16.tif', 'C17.tif', 'C18.tif', 'C19.tif', 'C2.tif', 'C20.tif', 'C21.tif', 'C22.tif', 'C23.tif', 'C24.tif', 'C25.tif', 'C26.tif', 'C27.tif', 'C28.tif', 'C29.tif', 'C3.tif', 'C30.tif', 'C31.tif', 'C32.tif', 'C33.tif', 'C34.tif', 'C35.tif', 'C36.tif', 'C37.tif', 'C38.tif', 'C39.tif', 'C4.tif', 'C40.tif', 'C41.tif', 'C42.tif', 'C43.tif', 'C44.tif', 'C45.tif', 'C46.tif', 'C47.tif', 'C48.tif', 'C5.tif', 'C6.tif', 'C7.tif', 'C8.tif', 'C9.tif', 'D1.tif', 'D10.tif', 'D11.tif', 'D12.tif', 'D13.tif', 'D14.tif', 'D15.tif', 'D16.tif', 'D17.tif', 'D18.tif', 'D19.tif', 'D2.tif', 'D20.tif', 'D21.tif', 'D22.tif', 'D23.tif', 'D24.tif', 'D25.tif', 'D26.tif', 'D27.tif', 'D28.tif', 'D29.tif', 'D3.tif', 'D30.tif', 'D31.tif', 'D32.tif', 'D33.tif', 'D34.tif', 'D35.tif', 'D36.tif', 'D37.tif', 'D38.tif', 'D39.tif', 'D4.tif', 'D40.tif', 'D41.tif', 'D42.tif', 'D43.tif', 'D44.tif', 'D45.tif', 'D46.tif', 'D47.tif', 'D48.tif', 'D5.tif', 'D6.tif', 'D7.tif', 'D8.tif', 'D9.tif', 'E1.tif', 'E10.tif', 'E11.tif', 'E12.tif', 'E13.tif', 'E14.tif', 'E15.tif', 'E16.tif', 'E17.tif', 'E18.tif', 'E19.tif', 'E2.tif', 'E20.tif', 'E21.tif', 'E22.tif', 'E23.tif', 'E24.tif', 'E25.tif', 'E26.tif', 'E27.tif', 'E28.tif', 'E29.tif', 'E3.tif', 'E30.tif', 'E31.tif', 'E32.tif', 'E33.tif', 'E34.tif', 'E35.tif', 'E36.tif', 'E37.tif', 'E38.tif', 'E39.tif', 'E4.tif', 'E40.tif', 'E41.tif', 'E42.tif', 'E43.tif', 'E44.tif', 'E45.tif', 'E46.tif', 'E47.tif', 'E48.tif', 'E5.tif', 'E6.tif', 'E7.tif', 'E8.tif', 'E9.tif', 'F1.tif', 'F10.tif', 'F11.tif', 'F12.tif', 'F13.tif', 'F14.tif', 'F15.tif', 'F16.tif', 'F17.tif', 'F18.tif', 'F19.tif', 'F2.tif', 'F20.tif', 'F21.tif', 'F22.tif', 'F23.tif', 'F24.tif', 'F25.tif', 'F26.tif', 'F27.tif', 'F28.tif', 'F29.tif', 'F3.tif', 'F30.tif', 'F31.tif', 'F32.tif', 'F33.tif', 'F34.tif', 'F35.tif', 'F36.tif', 'F37.tif', 'F38.tif', 'F39.tif', 'F4.tif', 'F40.tif', 'F41.tif', 'F42.tif', 'F43.tif', 'F44.tif', 'F45.tif', 'F46.tif', 'F47.tif', 'F48.tif', 'F5.tif', 'F6.tif', 'F7.tif', 'F8.tif', 'F9.tif', 'G1.tif', 'G10.tif', 'G11.tif', 'G12.tif', 'G13.tif', 'G14.tif', 'G15.tif', 'G16.tif', 'G17.tif', 'G18.tif', 'G19.tif', 'G2.tif', 'G20.tif', 'G21.tif', 'G22.tif', 'G23.tif', 'G24.tif', 'G25.tif', 'G26.tif', 'G27.tif', 'G28.tif', 'G29.tif', 'G3.tif', 'G30.tif', 'G31.tif', 'G32.tif', 'G33.tif', 'G34.tif', 'G35.tif', 'G36.tif', 'G37.tif', 'G38.tif', 'G39.tif', 'G4.tif', 'G40.tif', 'G41.tif', 'G42.tif', 'G43.tif', 'G44.tif', 'G45.tif', 'G46.tif', 'G47.tif', 'G48.tif', 'G5.tif', 'G6.tif', 'G7.tif', 'G8.tif', 'G9.tif', 'H1.tif', 'H10.tif', 'H11.tif', 'H12.tif', 'H13.tif', 'H14.tif', 'H15.tif', 'H16.tif', 'H17.tif', 'H18.tif', 'H19.tif', 'H2.tif', 'H20.tif', 'H21.tif', 'H22.tif', 'H23.tif', 'H24.tif', 'H25.tif', 'H26.tif', 'H27.tif', 'H28.tif', 'H29.tif', 'H3.tif', 'H30.tif', 'H31.tif', 'H32.tif', 'H33.tif', 'H34.tif', 'H35.tif', 'H36.tif', 'H37.tif', 'H38.tif', 'H39.tif', 'H4.tif', 'H40.tif', 'H41.tif', 'H42.tif', 'H43.tif', 'H44.tif', 'H45.tif', 'H46.tif', 'H47.tif', 'H48.tif', 'H5.tif', 'H6.tif', 'H7.tif', 'H8.tif', 'H9.tif', 'I1.tif', 'I10.tif', 'I11.tif', 'I12.tif', 'I13.tif', 'I14.tif', 'I15.tif', 'I16.tif', 'I17.tif', 'I18.tif', 'I19.tif', 'I2.tif', 'I20.tif', 'I21.tif', 'I22.tif', 'I23.tif', 'I24.tif', 'I25.tif', 'I26.tif', 'I27.tif', 'I28.tif', 'I29.tif', 'I3.tif', 'I30.tif', 'I31.tif', 'I32.tif', 'I33.tif', 'I34.tif', 'I35.tif', 'I36.tif', 'I37.tif', 'I38.tif', 'I39.tif', 'I4.tif', 'I40.tif', 'I41.tif', 'I42.tif', 'I43.tif', 'I44.tif', 'I45.tif', 'I46.tif', 'I47.tif', 'I48.tif', 'I5.tif', 'I6.tif', 'I7.tif', 'I8.tif', 'I9.tif', 'J1.tif', 'J10.tif', 'J11.tif', 'J12.tif', 'J13.tif', 'J14.tif', 'J15.tif', 'J16.tif', 'J17.tif', 'J18.tif', 'J19.tif', 'J2.tif', 'J20.tif', 'J21.tif', 'J22.tif', 'J23.tif', 'J24.tif', 'J25.tif', 'J26.tif', 'J27.tif', 'J28.tif', 'J29.tif', 'J3.tif', 'J30.tif', 'J31.tif', 'J32.tif', 'J33.tif', 'J34.tif', 'J35.tif', 'J36.tif', 'J37.tif', 'J38.tif', 'J39.tif', 'J4.tif', 'J40.tif', 'J41.tif', 'J42.tif', 'J43.tif', 'J44.tif', 'J45.tif', 'J46.tif', 'J47.tif', 'J48.tif', 'J5.tif', 'J6.tif', 'J7.tif', 'J8.tif', 'J9.tif', 'K1.tif', 'K10.tif', 'K11.tif', 'K12.tif', 'K13.tif', 'K14.tif', 'K15.tif', 'K16.tif', 'K17.tif', 'K18.tif', 'K19.tif', 'K2.tif', 'K20.tif', 'K21.tif', 'K22.tif', 'K23.tif', 'K24.tif', 'K25.tif', 'K26.tif', 'K27.tif', 'K28.tif', 'K29.tif', 'K3.tif', 'K30.tif', 'K31.tif', 'K32.tif', 'K33.tif', 'K34.tif', 'K35.tif', 'K36.tif', 'K37.tif', 'K38.tif', 'K39.tif', 'K4.tif', 'K40.tif', 'K41.tif', 'K42.tif', 'K43.tif', 'K44.tif', 'K45.tif', 'K46.tif', 'K47.tif', 'K48.tif', 'K5.tif', 'K6.tif', 'K7.tif', 'K8.tif', 'K9.tif', 'L1.tif', 'L10.tif', 'L11.tif', 'L12.tif', 'L13.tif', 'L14.tif', 'L15.tif', 'L16.tif', 'L17.tif', 'L18.tif', 'L19.tif', 'L2.tif', 'L20.tif', 'L21.tif', 'L22.tif', 'L23.tif', 'L24.tif', 'L25.tif', 'L26.tif', 'L27.tif', 'L28.tif', 'L29.tif', 'L3.tif', 'L30.tif', 'L31.tif', 'L32.tif', 'L33.tif', 'L34.tif', 'L35.tif', 'L36.tif', 'L37.tif', 'L38.tif', 'L39.tif', 'L4.tif', 'L40.tif', 'L41.tif', 'L42.tif', 'L43.tif', 'L44.tif', 'L45.tif', 'L46.tif', 'L47.tif', 'L48.tif', 'L5.tif', 'L6.tif', 'L7.tif', 'L8.tif', 'L9.tif', 'M1.tif', 'M10.tif', 'M11.tif', 'M12.tif', 'M13.tif', 'M14.tif', 'M15.tif', 'M16.tif', 'M17.tif', 'M18.tif', 'M19.tif', 'M2.tif', 'M20.tif', 'M21.tif', 'M22.tif', 'M23.tif', 'M24.tif', 'M25.tif', 'M26.tif', 'M27.tif', 'M28.tif', 'M29.tif', 'M3.tif', 'M30.tif', 'M31.tif', 'M32.tif', 'M33.tif', 'M34.tif', 'M35.tif', 'M36.tif', 'M37.tif', 'M38.tif', 'M39.tif', 'M4.tif', 'M40.tif', 'M41.tif', 'M42.tif', 'M43.tif', 'M44.tif', 'M45.tif', 'M46.tif', 'M47.tif', 'M48.tif', 'M5.tif', 'M6.tif', 'M7.tif', 'M8.tif', 'M9.tif', 'N1.tif', 'N10.tif', 'N11.tif', 'N12.tif', 'N13.tif', 'N14.tif', 'N15.tif', 'N16.tif', 'N17.tif', 'N18.tif', 'N19.tif', 'N2.tif', 'N20.tif', 'N21.tif', 'N22.tif', 'N23.tif', 'N24.tif', 'N25.tif', 'N26.tif', 'N27.tif', 'N28.tif', 'N29.tif', 'N3.tif', 'N30.tif', 'N31.tif', 'N32.tif', 'N33.tif', 'N34.tif', 'N35.tif', 'N36.tif', 'N37.tif', 'N38.tif', 'N39.tif', 'N4.tif', 'N40.tif', 'N41.tif', 'N42.tif', 'N43.tif', 'N44.tif', 'N45.tif', 'N46.tif', 'N47.tif', 'N48.tif', 'N5.tif', 'N6.tif', 'N7.tif', 'N8.tif', 'N9.tif', 'O1.tif', 'O10.tif', 'O11.tif', 'O12.tif', 'O13.tif', 'O14.tif', 'O15.tif', 'O16.tif', 'O17.tif', 'O18.tif', 'O19.tif', 'O2.tif', 'O20.tif', 'O21.tif', 'O22.tif', 'O23.tif', 'O24.tif', 'O25.tif', 'O26.tif', 'O27.tif', 'O28.tif', 'O29.tif', 'O3.tif', 'O30.tif', 'O31.tif', 'O32.tif', 'O33.tif', 'O34.tif', 'O35.tif', 'O36.tif', 'O37.tif', 'O38.tif', 'O39.tif', 'O4.tif', 'O40.tif', 'O41.tif', 'O42.tif', 'O43.tif', 'O44.tif', 'O45.tif', 'O46.tif', 'O47.tif', 'O48.tif', 'O5.tif', 'O6.tif', 'O7.tif', 'O8.tif', 'O9.tif', 'P1.tif', 'P10.tif', 'P11.tif', 'P12.tif', 'P13.tif', 'P14.tif', 'P15.tif', 'P16.tif', 'P17.tif', 'P18.tif', 'P19.tif', 'P2.tif', 'P20.tif', 'P21.tif', 'P22.tif', 'P23.tif', 'P24.tif', 'P25.tif', 'P26.tif', 'P27.tif', 'P28.tif', 'P29.tif', 'P3.tif', 'P30.tif', 'P31.tif', 'P32.tif', 'P33.tif', 'P34.tif', 'P35.tif', 'P36.tif', 'P37.tif', 'P38.tif', 'P39.tif', 'P4.tif', 'P40.tif', 'P41.tif', 'P42.tif', 'P43.tif', 'P44.tif', 'P45.tif', 'P46.tif', 'P47.tif', 'P48.tif', 'P5.tif', 'P6.tif', 'P7.tif', 'P8.tif', 'P9.tif', 'Q1.tif', 'Q10.tif', 'Q11.tif', 'Q12.tif', 'Q13.tif', 'Q14.tif', 'Q15.tif', 'Q16.tif', 'Q17.tif', 'Q18.tif', 'Q19.tif', 'Q2.tif', 'Q20.tif', 'Q21.tif', 'Q22.tif', 'Q23.tif', 'Q24.tif', 'Q25.tif', 'Q26.tif', 'Q27.tif', 'Q28.tif', 'Q29.tif', 'Q3.tif', 'Q30.tif', 'Q31.tif', 'Q32.tif', 'Q33.tif', 'Q34.tif', 'Q35.tif', 'Q36.tif', 'Q37.tif', 'Q38.tif', 'Q39.tif', 'Q4.tif', 'Q40.tif', 'Q41.tif', 'Q42.tif', 'Q43.tif', 'Q44.tif', 'Q45.tif', 'Q46.tif', 'Q47.tif', 'Q48.tif', 'Q5.tif', 'Q6.tif', 'Q7.tif', 'Q8.tif', 'Q9.tif', 'R1.tif', 'R10.tif', 'R11.tif', 'R12.tif', 'R13.tif', 'R14.tif', 'R15.tif', 'R16.tif', 'R17.tif', 'R18.tif', 'R19.tif', 'R2.tif', 'R20.tif', 'R21.tif', 'R22.tif', 'R23.tif', 'R24.tif', 'R25.tif', 'R26.tif', 'R27.tif', 'R28.tif', 'R29.tif', 'R3.tif', 'R30.tif', 'R31.tif', 'R32.tif', 'R33.tif', 'R34.tif', 'R35.tif', 'R36.tif', 'R37.tif', 'R38.tif', 'R39.tif', 'R4.tif', 'R40.tif', 'R41.tif', 'R42.tif', 'R43.tif', 'R44.tif', 'R45.tif', 'R46.tif', 'R47.tif', 'R48.tif', 'R5.tif', 'R6.tif', 'R7.tif', 'R8.tif', 'R9.tif', 'S1.tif', 'S10.tif', 'S11.tif', 'S12.tif', 'S13.tif', 'S14.tif', 'S15.tif', 'S16.tif', 'S17.tif', 'S18.tif', 'S19.tif', 'S2.tif', 'S20.tif', 'S21.tif', 'S22.tif', 'S23.tif', 'S24.tif', 'S25.tif', 'S26.tif', 'S27.tif', 'S28.tif', 'S29.tif', 'S3.tif', 'S30.tif', 'S31.tif', 'S32.tif', 'S33.tif', 'S34.tif', 'S35.tif', 'S36.tif', 'S37.tif', 'S38.tif', 'S39.tif', 'S4.tif', 'S40.tif', 'S41.tif', 'S42.tif', 'S43.tif', 'S44.tif', 'S45.tif', 'S46.tif', 'S47.tif', 'S48.tif', 'S5.tif', 'S6.tif', 'S7.tif', 'S8.tif', 'S9.tif', 'T1.tif', 'T10.tif', 'T11.tif', 'T12.tif', 'T13.tif', 'T14.tif', 'T15.tif', 'T16.tif', 'T17.tif', 'T18.tif', 'T19.tif', 'T2.tif', 'T20.tif', 'T21.tif', 'T22.tif', 'T23.tif', 'T24.tif', 'T25.tif', 'T26.tif', 'T27.tif', 'T28.tif', 'T29.tif', 'T3.tif', 'T30.tif', 'T31.tif', 'T32.tif', 'T33.tif', 'T34.tif', 'T35.tif', 'T36.tif', 'T37.tif', 'T38.tif', 'T39.tif', 'T4.tif', 'T40.tif', 'T41.tif', 'T42.tif', 'T43.tif', 'T44.tif', 'T45.tif', 'T46.tif', 'T47.tif', 'T48.tif', 'T5.tif', 'T6.tif', 'T7.tif', 'T8.tif', 'T9.tif']\n",
            "30/30 [==============================] - 11s 82ms/step\n"
          ]
        }
      ],
      "source": [
        "import tensorflow as tf\n",
        "from tensorflow.keras.applications import DenseNet121\n",
        "from tensorflow.keras.layers import GlobalAveragePooling2D, Dense\n",
        "from tensorflow.keras.models import Model\n",
        "from tensorflow.keras.preprocessing import image\n",
        "from tensorflow.keras.applications.densenet import preprocess_input\n",
        "from tensorflow.keras.layers import Dropout, Flatten\n",
        "import numpy as np\n",
        "\n",
        "\n",
        "# Load a pretrained DenseNet model without the top (classification) layer\n",
        "base_model = DenseNet121(weights='imagenet', include_top=False)\n",
        "\n",
        "x = base_model.output\n",
        "x = GlobalAveragePooling2D()(x)\n",
        "layer2 = Dense(256, activation='relu')(x)\n",
        "x = Dropout(0.5)(layer2)\n",
        "predictions = Dense(20, activation='softmax')(x)  # Assuming you have 20 classes\n",
        "\n",
        "# Step 3: Create the model\n",
        "model = Model(inputs=base_model.input, outputs=layer2)\n",
        "\n",
        "import os\n",
        "\n",
        "directory = '/content/drive/MyDrive/SIG_DATASET_AND_CSV_XLSX_FILES/KIMIA_Path_960/'\n",
        "\n",
        "# List files in the directory and sort them\n",
        "files = sorted(os.listdir(directory))\n",
        "print(\"Files in the directory (sorted):\", files)\n",
        "\n",
        "\n",
        "images = []\n",
        "for filename in files:\n",
        "    img_path = os.path.join(directory, filename)\n",
        "    img = image.load_img(img_path, target_size=(224, 224))\n",
        "    img_array = image.img_to_array(img)\n",
        "    img_array = np.expand_dims(img_array, axis=0)\n",
        "    img_array = preprocess_input(img_array)\n",
        "    images.append(img_array)\n",
        "\n",
        "# Concatenate images into a single array\n",
        "images_array = np.vstack(images)\n",
        "\n",
        "\n",
        "features = model.predict(images_array)\n",
        "\n",
        "# Now, `features` contains the extracted feature representations for your dataset\n"
      ]
    },
    {
      "cell_type": "code",
      "execution_count": null,
      "metadata": {
        "colab": {
          "base_uri": "https://localhost:8080/"
        },
        "id": "vD4gI97Z7Q6i",
        "outputId": "aeee2ad4-4a2f-4c73-f891-fe7d3091dfd2"
      },
      "outputs": [
        {
          "output_type": "stream",
          "name": "stdout",
          "text": [
            "Features saved to features.xlsx\n"
          ]
        }
      ],
      "source": [
        "import pandas as pd\n",
        "\n",
        "# Assuming `features` is a 2D NumPy array containing the extracted features\n",
        "# You may need to reshape it as per your needs\n",
        "# features = features.reshape(features.shape[0], -1)\n",
        "\n",
        "# Create a Pandas DataFrame from the features\n",
        "df = pd.DataFrame(features)\n",
        "\n",
        "# Specify the file path where you want to save the Excel file\n",
        "excel_file_path = 'features.xlsx'\n",
        "\n",
        "# Save the DataFrame to an Excel file\n",
        "df.to_excel(excel_file_path, index=False)\n",
        "\n",
        "print(f\"Features saved to {excel_file_path}\")"
      ]
    },
    {
      "cell_type": "code",
      "execution_count": null,
      "metadata": {
        "colab": {
          "base_uri": "https://localhost:8080/",
          "height": 17
        },
        "id": "ONP11lBwgqhC",
        "outputId": "cd8034b5-e7c8-4d36-ebfb-719e547881c5"
      },
      "outputs": [
        {
          "output_type": "display_data",
          "data": {
            "text/plain": [
              "<IPython.core.display.Javascript object>"
            ],
            "application/javascript": [
              "\n",
              "    async function download(id, filename, size) {\n",
              "      if (!google.colab.kernel.accessAllowed) {\n",
              "        return;\n",
              "      }\n",
              "      const div = document.createElement('div');\n",
              "      const label = document.createElement('label');\n",
              "      label.textContent = `Downloading \"${filename}\": `;\n",
              "      div.appendChild(label);\n",
              "      const progress = document.createElement('progress');\n",
              "      progress.max = size;\n",
              "      div.appendChild(progress);\n",
              "      document.body.appendChild(div);\n",
              "\n",
              "      const buffers = [];\n",
              "      let downloaded = 0;\n",
              "\n",
              "      const channel = await google.colab.kernel.comms.open(id);\n",
              "      // Send a message to notify the kernel that we're ready.\n",
              "      channel.send({})\n",
              "\n",
              "      for await (const message of channel.messages) {\n",
              "        // Send a message to notify the kernel that we're ready.\n",
              "        channel.send({})\n",
              "        if (message.buffers) {\n",
              "          for (const buffer of message.buffers) {\n",
              "            buffers.push(buffer);\n",
              "            downloaded += buffer.byteLength;\n",
              "            progress.value = downloaded;\n",
              "          }\n",
              "        }\n",
              "      }\n",
              "      const blob = new Blob(buffers, {type: 'application/binary'});\n",
              "      const a = document.createElement('a');\n",
              "      a.href = window.URL.createObjectURL(blob);\n",
              "      a.download = filename;\n",
              "      div.appendChild(a);\n",
              "      a.click();\n",
              "      div.remove();\n",
              "    }\n",
              "  "
            ]
          },
          "metadata": {}
        },
        {
          "output_type": "display_data",
          "data": {
            "text/plain": [
              "<IPython.core.display.Javascript object>"
            ],
            "application/javascript": [
              "download(\"download_7ad11938-0e45-4be5-967f-67e1e70ce6de\", \"features.xlsx\", 2067944)"
            ]
          },
          "metadata": {}
        }
      ],
      "source": [
        "from google.colab import files\n",
        "\n",
        "# Trigger the download of the Excel file\n",
        "files.download(excel_file_path)\n"
      ]
    }
  ],
  "metadata": {
    "accelerator": "GPU",
    "colab": {
      "provenance": []
    },
    "kernelspec": {
      "display_name": "Python 3",
      "name": "python3"
    },
    "language_info": {
      "name": "python"
    }
  },
  "nbformat": 4,
  "nbformat_minor": 0
}