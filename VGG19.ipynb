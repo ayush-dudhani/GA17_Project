{
  "cells": [
    {
      "cell_type": "code",
      "execution_count": null,
      "metadata": {
        "colab": {
          "base_uri": "https://localhost:8080/"
        },
        "id": "tuy4URxX1uG0",
        "outputId": "6f23eb6f-25c9-4d21-9463-2cee231fc025"
      },
      "outputs": [
        {
          "output_type": "stream",
          "name": "stdout",
          "text": [
            "Wed Feb 21 10:12:56 2024       \n",
            "+---------------------------------------------------------------------------------------+\n",
            "| NVIDIA-SMI 535.104.05             Driver Version: 535.104.05   CUDA Version: 12.2     |\n",
            "|-----------------------------------------+----------------------+----------------------+\n",
            "| GPU  Name                 Persistence-M | Bus-Id        Disp.A | Volatile Uncorr. ECC |\n",
            "| Fan  Temp   Perf          Pwr:Usage/Cap |         Memory-Usage | GPU-Util  Compute M. |\n",
            "|                                         |                      |               MIG M. |\n",
            "|=========================================+======================+======================|\n",
            "|   0  Tesla T4                       Off | 00000000:00:04.0 Off |                    0 |\n",
            "| N/A   50C    P8              10W /  70W |      0MiB / 15360MiB |      0%      Default |\n",
            "|                                         |                      |                  N/A |\n",
            "+-----------------------------------------+----------------------+----------------------+\n",
            "                                                                                         \n",
            "+---------------------------------------------------------------------------------------+\n",
            "| Processes:                                                                            |\n",
            "|  GPU   GI   CI        PID   Type   Process name                            GPU Memory |\n",
            "|        ID   ID                                                             Usage      |\n",
            "|=======================================================================================|\n",
            "|  No running processes found                                                           |\n",
            "+---------------------------------------------------------------------------------------+\n"
          ]
        }
      ],
      "source": [
        "!nvidia-smi"
      ]
    },
    {
      "cell_type": "code",
      "execution_count": null,
      "metadata": {
        "colab": {
          "base_uri": "https://localhost:8080/"
        },
        "id": "tODBjIKKz-My",
        "outputId": "20719336-9068-436c-b5aa-476fba89b2e7"
      },
      "outputs": [
        {
          "output_type": "stream",
          "name": "stdout",
          "text": [
            "Mounted at /content/drive\n"
          ]
        }
      ],
      "source": [
        "from google.colab import drive\n",
        "drive.mount('/content/drive')"
      ]
    },
    {
      "cell_type": "code",
      "execution_count": null,
      "metadata": {
        "colab": {
          "base_uri": "https://localhost:8080/"
        },
        "id": "KXIZ-mqZP5C4",
        "outputId": "aab6edb1-5979-45a0-8b50-7a8743e8fa68"
      },
      "outputs": [
        {
          "output_type": "stream",
          "name": "stdout",
          "text": [
            "Found 960 images belonging to 20 classes.\n"
          ]
        }
      ],
      "source": [
        "from keras.preprocessing.image import ImageDataGenerator\n",
        "from keras.models import Model\n",
        "\n",
        "trdata = ImageDataGenerator()\n",
        "traindata = trdata.flow_from_directory('/content/drive/MyDrive/KIMIA_PATH/Training100', target_size=(224,224), batch_size=32, shuffle=False)"
      ]
    },
    {
      "cell_type": "code",
      "execution_count": null,
      "metadata": {
        "colab": {
          "base_uri": "https://localhost:8080/"
        },
        "id": "N8ECrlSVG5Rx",
        "outputId": "48fb99c1-85ca-4406-beec-0a0c27f258e2"
      },
      "outputs": [
        {
          "output_type": "stream",
          "name": "stdout",
          "text": [
            "Downloading data from https://storage.googleapis.com/tensorflow/keras-applications/vgg19/vgg19_weights_tf_dim_ordering_tf_kernels_notop.h5\n",
            "80134624/80134624 [==============================] - 0s 0us/step\n"
          ]
        }
      ],
      "source": [
        "import tensorflow as tf\n",
        "\n",
        "model = tf.keras.applications.VGG19(\n",
        "    include_top = False,\n",
        "    weights=\"imagenet\",\n",
        "    input_shape=(224,224,3),\n",
        "    pooling = max\n",
        ")"
      ]
    },
    {
      "cell_type": "code",
      "execution_count": null,
      "metadata": {
        "id": "gle4aI9SUvtY",
        "colab": {
          "base_uri": "https://localhost:8080/"
        },
        "outputId": "1ac17a68-d38d-43dd-cc47-8910c0953ac8"
      },
      "outputs": [
        {
          "output_type": "stream",
          "name": "stdout",
          "text": [
            "Model: \"vgg19\"\n",
            "_________________________________________________________________\n",
            " Layer (type)                Output Shape              Param #   \n",
            "=================================================================\n",
            " input_1 (InputLayer)        [(None, 224, 224, 3)]     0         \n",
            "                                                                 \n",
            " block1_conv1 (Conv2D)       (None, 224, 224, 64)      1792      \n",
            "                                                                 \n",
            " block1_conv2 (Conv2D)       (None, 224, 224, 64)      36928     \n",
            "                                                                 \n",
            " block1_pool (MaxPooling2D)  (None, 112, 112, 64)      0         \n",
            "                                                                 \n",
            " block2_conv1 (Conv2D)       (None, 112, 112, 128)     73856     \n",
            "                                                                 \n",
            " block2_conv2 (Conv2D)       (None, 112, 112, 128)     147584    \n",
            "                                                                 \n",
            " block2_pool (MaxPooling2D)  (None, 56, 56, 128)       0         \n",
            "                                                                 \n",
            " block3_conv1 (Conv2D)       (None, 56, 56, 256)       295168    \n",
            "                                                                 \n",
            " block3_conv2 (Conv2D)       (None, 56, 56, 256)       590080    \n",
            "                                                                 \n",
            " block3_conv3 (Conv2D)       (None, 56, 56, 256)       590080    \n",
            "                                                                 \n",
            " block3_conv4 (Conv2D)       (None, 56, 56, 256)       590080    \n",
            "                                                                 \n",
            " block3_pool (MaxPooling2D)  (None, 28, 28, 256)       0         \n",
            "                                                                 \n",
            " block4_conv1 (Conv2D)       (None, 28, 28, 512)       1180160   \n",
            "                                                                 \n",
            " block4_conv2 (Conv2D)       (None, 28, 28, 512)       2359808   \n",
            "                                                                 \n",
            " block4_conv3 (Conv2D)       (None, 28, 28, 512)       2359808   \n",
            "                                                                 \n",
            " block4_conv4 (Conv2D)       (None, 28, 28, 512)       2359808   \n",
            "                                                                 \n",
            " block4_pool (MaxPooling2D)  (None, 14, 14, 512)       0         \n",
            "                                                                 \n",
            " block5_conv1 (Conv2D)       (None, 14, 14, 512)       2359808   \n",
            "                                                                 \n",
            " block5_conv2 (Conv2D)       (None, 14, 14, 512)       2359808   \n",
            "                                                                 \n",
            " block5_conv3 (Conv2D)       (None, 14, 14, 512)       2359808   \n",
            "                                                                 \n",
            " block5_conv4 (Conv2D)       (None, 14, 14, 512)       2359808   \n",
            "                                                                 \n",
            " block5_pool (MaxPooling2D)  (None, 7, 7, 512)         0         \n",
            "                                                                 \n",
            "=================================================================\n",
            "Total params: 20024384 (76.39 MB)\n",
            "Trainable params: 20024384 (76.39 MB)\n",
            "Non-trainable params: 0 (0.00 Byte)\n",
            "_________________________________________________________________\n"
          ]
        }
      ],
      "source": [
        "model.summary()"
      ]
    },
    {
      "cell_type": "code",
      "execution_count": null,
      "metadata": {
        "id": "p2KiXgvQpbg3"
      },
      "outputs": [],
      "source": [
        "#start a keras sequential model\n",
        "from keras.layers import Flatten, Dense, Dropout\n",
        "from keras.models import Sequential\n",
        "new_model = Sequential()\n",
        "\n",
        "# add the convolutional part of the VGG19 model from above\n",
        "new_model.add(model)\n",
        "\n",
        "# flatten the output of the VGG16 model because it is from a convolutional layer\n",
        "new_model.add(Flatten())\n",
        "\n",
        "# add a dense (aka. fully-connected) layer\n",
        "# this is for combining features that the VGG19 model has\n",
        "# recognized in the image.\n",
        "new_model.add(Dense(256, activation='relu'))\n",
        "\n",
        "# add a dropout-layer which may prevent overfitting and improve generalization\n",
        "# ability to unseen data e.g. the test-set.\n",
        "new_model.add(Dropout(0.5))\n",
        "\n",
        "# add the final layer for the actual classifcation.\n",
        "# 20 because we have 20 classes\n",
        "new_model.add(Dense(20,activation='softmax'))"
      ]
    },
    {
      "cell_type": "code",
      "execution_count": null,
      "metadata": {
        "id": "U0QsmJ6033NR",
        "colab": {
          "base_uri": "https://localhost:8080/"
        },
        "outputId": "030fdc87-a37c-41ef-caf1-5fd033225809"
      },
      "outputs": [
        {
          "output_type": "stream",
          "name": "stdout",
          "text": [
            "vgg19 True\n",
            "flatten True\n",
            "dense True\n",
            "dropout True\n",
            "dense_1 True\n"
          ]
        }
      ],
      "source": [
        "for layer in new_model.layers:\n",
        "  print(layer.name, layer.trainable)"
      ]
    },
    {
      "cell_type": "code",
      "execution_count": null,
      "metadata": {
        "id": "h_0FmLs0iGzP",
        "colab": {
          "base_uri": "https://localhost:8080/"
        },
        "outputId": "c35e60a4-5c15-4c3c-a7aa-a69adfc9829c"
      },
      "outputs": [
        {
          "output_type": "stream",
          "name": "stdout",
          "text": [
            "Model: \"sequential\"\n",
            "_________________________________________________________________\n",
            " Layer (type)                Output Shape              Param #   \n",
            "=================================================================\n",
            " vgg19 (Functional)          (None, 7, 7, 512)         20024384  \n",
            "                                                                 \n",
            " flatten (Flatten)           (None, 25088)             0         \n",
            "                                                                 \n",
            " dense (Dense)               (None, 256)               6422784   \n",
            "                                                                 \n",
            " dropout (Dropout)           (None, 256)               0         \n",
            "                                                                 \n",
            " dense_1 (Dense)             (None, 20)                5140      \n",
            "                                                                 \n",
            "=================================================================\n",
            "Total params: 26452308 (100.91 MB)\n",
            "Trainable params: 26452308 (100.91 MB)\n",
            "Non-trainable params: 0 (0.00 Byte)\n",
            "_________________________________________________________________\n"
          ]
        }
      ],
      "source": [
        "new_model.summary()"
      ]
    },
    {
      "cell_type": "code",
      "execution_count": null,
      "metadata": {
        "id": "jB1sfAJPVTmc"
      },
      "outputs": [],
      "source": [
        "from keras.metrics import Precision, Recall\n",
        "from keras import optimizers, losses\n",
        "\n",
        "myAdam = optimizers.Adam(learning_rate = 0.00001)\n",
        "new_model.compile(loss='categorical_crossentropy', optimizer = myAdam , metrics=['accuracy', Precision(), Recall()])"
      ]
    },
    {
      "cell_type": "markdown",
      "metadata": {
        "id": "D0lxZvtDHcxs"
      },
      "source": [
        "#Train the Model"
      ]
    },
    {
      "cell_type": "code",
      "execution_count": null,
      "metadata": {
        "id": "9fXuWuDDV0hz",
        "colab": {
          "base_uri": "https://localhost:8080/"
        },
        "outputId": "a7ff567a-d453-4379-ef1f-fb98dbbc9c33"
      },
      "outputs": [
        {
          "output_type": "stream",
          "name": "stdout",
          "text": [
            "Epoch 1/30\n",
            "30/30 [==============================] - 422s 14s/step - loss: 9.1611 - accuracy: 0.0542 - precision: 0.0656 - recall: 0.0375\n",
            "Epoch 2/30\n",
            "30/30 [==============================] - 14s 452ms/step - loss: 3.2917 - accuracy: 0.0646 - precision: 0.1364 - recall: 0.0031\n",
            "Epoch 3/30\n",
            "30/30 [==============================] - 14s 458ms/step - loss: 2.8735 - accuracy: 0.1292 - precision: 0.1250 - recall: 0.0010\n",
            "Epoch 4/30\n",
            "30/30 [==============================] - 14s 464ms/step - loss: 2.6198 - accuracy: 0.1969 - precision: 0.7895 - recall: 0.0156\n",
            "Epoch 5/30\n",
            "30/30 [==============================] - 14s 466ms/step - loss: 2.3782 - accuracy: 0.2771 - precision: 0.7500 - recall: 0.0531\n",
            "Epoch 6/30\n",
            "30/30 [==============================] - 14s 467ms/step - loss: 2.1236 - accuracy: 0.3521 - precision: 0.8435 - recall: 0.1010\n",
            "Epoch 7/30\n",
            "30/30 [==============================] - 14s 469ms/step - loss: 1.8316 - accuracy: 0.4500 - precision: 0.8070 - recall: 0.1917\n",
            "Epoch 8/30\n",
            "30/30 [==============================] - 14s 472ms/step - loss: 1.5655 - accuracy: 0.5125 - precision: 0.8464 - recall: 0.3156\n",
            "Epoch 9/30\n",
            "30/30 [==============================] - 14s 477ms/step - loss: 1.4085 - accuracy: 0.5677 - precision: 0.8271 - recall: 0.3885\n",
            "Epoch 10/30\n",
            "30/30 [==============================] - 15s 477ms/step - loss: 1.0916 - accuracy: 0.6562 - precision: 0.8627 - recall: 0.4583\n",
            "Epoch 11/30\n",
            "30/30 [==============================] - 15s 479ms/step - loss: 0.9476 - accuracy: 0.6990 - precision: 0.8434 - recall: 0.5552\n",
            "Epoch 12/30\n",
            "30/30 [==============================] - 15s 480ms/step - loss: 0.8656 - accuracy: 0.7437 - precision: 0.8783 - recall: 0.6313\n",
            "Epoch 13/30\n",
            "30/30 [==============================] - 15s 487ms/step - loss: 0.6692 - accuracy: 0.7990 - precision: 0.9055 - recall: 0.6990\n",
            "Epoch 14/30\n",
            "30/30 [==============================] - 15s 485ms/step - loss: 0.5133 - accuracy: 0.8281 - precision: 0.9156 - recall: 0.7573\n",
            "Epoch 15/30\n",
            "30/30 [==============================] - 15s 486ms/step - loss: 0.5589 - accuracy: 0.8271 - precision: 0.8961 - recall: 0.7635\n",
            "Epoch 16/30\n",
            "30/30 [==============================] - 15s 487ms/step - loss: 0.7637 - accuracy: 0.7615 - precision: 0.8501 - recall: 0.7031\n",
            "Epoch 17/30\n",
            "30/30 [==============================] - 15s 491ms/step - loss: 0.5637 - accuracy: 0.8250 - precision: 0.9202 - recall: 0.7563\n",
            "Epoch 18/30\n",
            "30/30 [==============================] - 15s 487ms/step - loss: 0.2507 - accuracy: 0.9260 - precision: 0.9596 - recall: 0.8906\n",
            "Epoch 19/30\n",
            "30/30 [==============================] - 15s 488ms/step - loss: 0.2670 - accuracy: 0.9167 - precision: 0.9560 - recall: 0.8833\n",
            "Epoch 20/30\n",
            "30/30 [==============================] - 15s 485ms/step - loss: 0.3305 - accuracy: 0.8990 - precision: 0.9381 - recall: 0.8677\n",
            "Epoch 21/30\n",
            "30/30 [==============================] - 15s 487ms/step - loss: 0.2070 - accuracy: 0.9260 - precision: 0.9593 - recall: 0.9073\n",
            "Epoch 22/30\n",
            "30/30 [==============================] - 15s 486ms/step - loss: 0.2022 - accuracy: 0.9406 - precision: 0.9609 - recall: 0.9208\n",
            "Epoch 23/30\n",
            "30/30 [==============================] - 15s 486ms/step - loss: 0.1353 - accuracy: 0.9573 - precision: 0.9721 - recall: 0.9427\n",
            "Epoch 24/30\n",
            "30/30 [==============================] - 15s 487ms/step - loss: 0.1664 - accuracy: 0.9448 - precision: 0.9562 - recall: 0.9323\n",
            "Epoch 25/30\n",
            "30/30 [==============================] - 15s 486ms/step - loss: 0.1358 - accuracy: 0.9583 - precision: 0.9710 - recall: 0.9427\n",
            "Epoch 26/30\n",
            "30/30 [==============================] - 15s 488ms/step - loss: 0.0673 - accuracy: 0.9771 - precision: 0.9811 - recall: 0.9750\n",
            "Epoch 27/30\n",
            "30/30 [==============================] - 15s 491ms/step - loss: 0.0590 - accuracy: 0.9854 - precision: 0.9905 - recall: 0.9823\n",
            "Epoch 28/30\n",
            "30/30 [==============================] - 15s 493ms/step - loss: 0.1070 - accuracy: 0.9635 - precision: 0.9693 - recall: 0.9552\n",
            "Epoch 29/30\n",
            "30/30 [==============================] - 15s 496ms/step - loss: 0.2700 - accuracy: 0.9073 - precision: 0.9266 - recall: 0.8938\n",
            "Epoch 30/30\n",
            "30/30 [==============================] - 15s 497ms/step - loss: 0.3696 - accuracy: 0.8917 - precision: 0.9249 - recall: 0.8729\n"
          ]
        }
      ],
      "source": [
        "hist = new_model.fit(traindata,\n",
        "                     epochs = 30,\n",
        "                     steps_per_epoch=len(traindata),\n",
        "                     )"
      ]
    },
    {
      "cell_type": "code",
      "execution_count": null,
      "metadata": {
        "id": "ylSfY7uawm3A"
      },
      "outputs": [],
      "source": [
        "import numpy as np\n",
        "import os\n",
        "import cv2\n",
        "import pandas as pd\n",
        "\n",
        "dense_layer = 'dense'\n",
        "feature_model = Model(inputs = new_model.input, outputs = new_model.get_layer(dense_layer).output)\n",
        "\n",
        "image_size = 224\n",
        "features_list = []\n",
        "filenames_list = []\n",
        "\n",
        "labels = ['Class_A','Class_B','Class_C','Class_D','Class_E','Class_F','Class_G','Class_H','Class_I','Class_J','Class_K','Class_L','Class_M','Class_N','Class_O','Class_P','Class_Q','Class_R','Class_S','Class_T']\n",
        "for i in labels:\n",
        "    folderPath = os.path.join('/content/drive/MyDrive/KIMIA_PATH/Training100',i)\n",
        "    for j in sorted(os.listdir(folderPath)):\n",
        "        img = cv2.imread(os.path.join(folderPath,j))\n",
        "        img = cv2.resize(img,(image_size,image_size))\n",
        "\n",
        "        features = feature_model.predict(np.expand_dims(img, axis=0))\n",
        "        filenames_list.append(i)\n",
        "        features_list.append(features.flatten())\n",
        "\n",
        "features_df = pd.DataFrame(features_list)\n",
        "features_df['Filename'] = filenames_list\n",
        "\n",
        "# features_df.to_excel('vgg19_features.xlsx', index = False)\n"
      ]
    }
  ],
  "metadata": {
    "accelerator": "GPU",
    "colab": {
      "provenance": []
    },
    "kernelspec": {
      "display_name": "Python 3",
      "name": "python3"
    },
    "language_info": {
      "name": "python"
    }
  },
  "nbformat": 4,
  "nbformat_minor": 0
}